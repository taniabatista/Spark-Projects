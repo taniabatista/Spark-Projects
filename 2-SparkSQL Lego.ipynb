{
 "cells": [
  {
   "cell_type": "markdown",
   "metadata": {},
   "source": [
    "# PEC2\n",
    "\n",
    "![lego](https://kaggle2.blob.core.windows.net/datasets-images/1599/2846/759e9518355eabd33bd70f907e4f7992/dataset-cover.jpg)\n"
   ]
  },
  {
   "cell_type": "markdown",
   "metadata": {},
   "source": [
    "Vamos a trabajar sobre un dataset de LEGO, en el que tenemos diferentes ficheros/tablas.\n",
    "Éste es un esquema de las tablas que representan los CSV de datos que tenemos:\n",
    "\n",
    "![diagram](downloads_schema.png)"
   ]
  },
  {
   "cell_type": "markdown",
   "metadata": {},
   "source": [
    "## 1 Carga de Datos\n",
    "En la tabla `sets` tenemos los diferentes sets de lego, cada uno con su \n",
    "- identificador, \n",
    "- año \n",
    "- y su \"temática\".\n",
    "\n",
    "\n",
    "En la tabla `themes` tenemos las diferentes temáticas de todos los sets de lego.\n",
    "\n",
    "Carga ambos DataFrames, y modifica el esquema si lo crees oportuno."
   ]
  },
  {
   "cell_type": "code",
   "execution_count": 1,
   "metadata": {},
   "outputs": [],
   "source": [
    "import pyspark\n",
    "from pyspark.sql.functions import col\n",
    "from pyspark.sql.functions import lower"
   ]
  },
  {
   "cell_type": "code",
   "execution_count": 2,
   "metadata": {},
   "outputs": [],
   "source": [
    "spark = pyspark.sql.SparkSession.builder.appName('lego').getOrCreate()"
   ]
  },
  {
   "cell_type": "code",
   "execution_count": 3,
   "metadata": {},
   "outputs": [
    {
     "name": "stdout",
     "output_type": "stream",
     "text": [
      "+-------+--------------------+----+--------+---------+\n",
      "|set_num|            set_name|year|theme_id|num_parts|\n",
      "+-------+--------------------+----+--------+---------+\n",
      "|   00-1|     Weetabix Castle|1970|     414|      471|\n",
      "| 0011-2|   Town Mini-Figures|1978|      84|       12|\n",
      "| 0011-3|Castle 2 for 1 Bo...|1987|     199|        2|\n",
      "| 0012-1|  Space Mini-Figures|1979|     143|       12|\n",
      "| 0013-1|  Space Mini-Figures|1979|     143|       12|\n",
      "+-------+--------------------+----+--------+---------+\n",
      "only showing top 5 rows\n",
      "\n"
     ]
    }
   ],
   "source": [
    "# column heads: set_num, name, year, theme_id, num_parts\n",
    "sets = spark.read.option('header', True).\\\n",
    "    csv('data/sets.csv').\\\n",
    "    toDF('set_num', 'set_name', 'year', 'theme_id', 'num_parts')\n",
    "sets.show(5)"
   ]
  },
  {
   "cell_type": "code",
   "execution_count": 4,
   "metadata": {},
   "outputs": [
    {
     "name": "stdout",
     "output_type": "stream",
     "text": [
      "+--------+--------------+---------+\n",
      "|theme_id|    theme_name|parent_id|\n",
      "+--------+--------------+---------+\n",
      "|       1|       Technic|     null|\n",
      "|       2|Arctic Technic|        1|\n",
      "|       3|   Competition|        1|\n",
      "|       4|Expert Builder|        1|\n",
      "|       5|         Model|        1|\n",
      "+--------+--------------+---------+\n",
      "only showing top 5 rows\n",
      "\n"
     ]
    }
   ],
   "source": [
    "#column heads: id, name, parent_id\n",
    "themes = spark.read.option('header', True).\\\n",
    "    csv('data/themes.csv').\\\n",
    "    toDF('theme_id', 'theme_name', 'parent_id')\n",
    "themes.show(5)"
   ]
  },
  {
   "cell_type": "markdown",
   "metadata": {},
   "source": [
    "## 2 Joins\n",
    "Ahora queremos extraer **sólo** las siguientes columnas:\n",
    " - el identificador del set (`set_num`) - sets.set_num\n",
    " - la temática del set (columna `name` de `themes`) - themes.name\n",
    " - el nombre del set (columna `name` de `sets`) - sets.name\n",
    " \n",
    "De todos los sets que contengan \"x-wing\" en su nombre, y sean posteriores a 2011.\n",
    "\n",
    "\n",
    "Ten en cuenta que \"x-wing\" puede aparecer en cualquier posición del nombre del set, y con cualquier composición de mayúsculas o minúsculas. (es decir, tienes que detectar apariciones de `x-wing`, `X-Wing`, `X-wing`...etc).\n",
    "\n",
    "Ten en cuenta que sólo queremos esas 3 columnas en el resultado."
   ]
  },
  {
   "cell_type": "code",
   "execution_count": 5,
   "metadata": {},
   "outputs": [
    {
     "name": "stdout",
     "output_type": "stream",
     "text": [
      "+-------------+--------------------+--------------------+\n",
      "|      set_num|            set_name|          theme_name|\n",
      "+-------------+--------------------+--------------------+\n",
      "|      10240-1|Red Five X-Wing S...|Star Wars Episode...|\n",
      "|      30278-1|Poe's X-wing Fighter|                Mini|\n",
      "|      75032-1|      X-Wing Fighter|                Mini|\n",
      "|      75102-1|Poe’s X-Wing Figh...|           Star Wars|\n",
      "|      75125-1|Resistance X-Wing...| Star Wars Episode 7|\n",
      "|      75149-1|Resistance X-Wing...| Star Wars Episode 7|\n",
      "|       9493-1|  X-wing Starfighter|Star Wars Episode...|\n",
      "|       9677-1|X-wing Starfighte...|     Planet Series 2|\n",
      "|   SWCOMIC1-1|              X-Wing|                Mini|\n",
      "|   TRUXWING-1|              X-Wing|     Star Wars Other|\n",
      "|   TRUXWING-2|Poe's X-Wing Fighter|           Star Wars|\n",
      "|TRUXWINGTIE-1|TRU X-Wing Fighte...|     Star Wars Other|\n",
      "+-------------+--------------------+--------------------+\n",
      "\n"
     ]
    }
   ],
   "source": [
    "# SETS: 'set_num', 'set_name', 'set_year', 'theme_id', 'set_num_parts'\n",
    "# THEMES: 'theme_id', 'theme_name', 'theme_parent_id'\n",
    "\n",
    "\n",
    "# Se que se puede hacer esto en menos etapas, pero creo que de esta forma es mas claro para ti de evaluar:\n",
    "joinExpression = sets[\"theme_id\"] == themes['theme_id']\n",
    "both = sets.join(themes, joinExpression)\n",
    "post_2011 = both.filter(sets[\"year\"] > 2011)\n",
    "x_wing = post_2011.filter(lower(col(\"set_name\")).rlike(\"x-wing\"))\n",
    "themes_and_sets = x_wing.select('set_num', 'set_name','theme_name')\n",
    "themes_and_sets.show()\n",
    "\n",
    "\n"
   ]
  },
  {
   "cell_type": "markdown",
   "metadata": {},
   "source": [
    "## 3 Más joins\n",
    "\n",
    "\n",
    "- **todos los sets.theme_id que sean 158**  de la temática Star wars\n",
    "    - Table sets  |  column theme_id, value 158\n",
    "\n",
    "el resultado debe incluír sólo las siguientes columnas:\n",
    " - `set_num`    \n",
    "     - Table sets | column set_num   \n",
    "\n",
    "\n",
    " - `name` \n",
    "     - Table sets | column set_name\n",
    "\n",
    "\n",
    " - `inventory_id`        \n",
    "     - Table inventory_sets | columns id/version/set_num  | value id=158\n",
    "     - cuando no exista informacion, = null\n",
    "\n",
    "\n",
    "- `quantity`    \n",
    "     - Table inventory_sets  | column quantity\n",
    "     - cuando no exista informacion, = null\n",
    " \n"
   ]
  },
  {
   "cell_type": "code",
   "execution_count": 6,
   "metadata": {},
   "outputs": [
    {
     "name": "stdout",
     "output_type": "stream",
     "text": [
      "+------------+-------+--------+\n",
      "|inventory_id|set_num|quantity|\n",
      "+------------+-------+--------+\n",
      "|          35|75911-1|       1|\n",
      "+------------+-------+--------+\n",
      "only showing top 1 row\n",
      "\n",
      "+---+-------+-------+\n",
      "| id|version|set_num|\n",
      "+---+-------+-------+\n",
      "|  1|      1| 7922-1|\n",
      "+---+-------+-------+\n",
      "only showing top 1 row\n",
      "\n"
     ]
    }
   ],
   "source": [
    "# inventory_sets columns: inventory_id, set_num, quantity\n",
    "inventory_sets = spark.read.option(\"header\", True).\\\n",
    "    csv(\"data/inventory_sets.csv\").\\\n",
    "    toDF(\"inventory_id\", \"set_num\", \"quantity\")\n",
    "inventory_sets.show(1)\n",
    "\n",
    "# inventory columns: id, version, set_num\n",
    "inventories = spark.read.option(\"header\", \"true\").\\\n",
    "            csv(\"data/inventories.csv\").\\\n",
    "            toDF(\"id\", \"version\", \"set_num\")\n",
    "inventories.show(1)"
   ]
  },
  {
   "cell_type": "code",
   "execution_count": 7,
   "metadata": {},
   "outputs": [
    {
     "name": "stdout",
     "output_type": "stream",
     "text": [
      "+-------+--------------------+------------+--------+\n",
      "|set_num|            set_name|inventory_id|quantity|\n",
      "+-------+--------------------+------------+--------+\n",
      "| 4481-1|      Hailfire Droid|       11344|       1|\n",
      "|75029-1|                 AAT|       12222|       1|\n",
      "|75035-1|   Kashyyyk Troopers|       12813|       1|\n",
      "|75037-1| Battle on Saleucami|        4941|       1|\n",
      "|75038-1|    Jedi Interceptor|        4941|       1|\n",
      "|75043-1|               AT-AP|       12813|       1|\n",
      "|75045-1|Republic AV-7 Ant...|        4941|       1|\n",
      "| 8008-1|       Stormtrooper™|        6181|       1|\n",
      "| 8010-1|        Darth Vader™|        6181|       1|\n",
      "| 9497-1|Republic Striker ...|        3110|       1|\n",
      "+-------+--------------------+------------+--------+\n",
      "\n"
     ]
    }
   ],
   "source": [
    "joinOnColumn = sets[\"set_num\"] == inventory_sets['set_num']\n",
    "joinSetInventory = sets.join(inventory_sets, joinOnColumn)\n",
    "id_158 = joinSetInventory.filter(sets[\"theme_id\"] == 158)\n",
    "StarWarsInventory = id_158.select(sets[\"set_num\"], sets['set_name'],inventory_sets['inventory_id'],inventory_sets['quantity']).show()"
   ]
  },
  {
   "cell_type": "code",
   "execution_count": null,
   "metadata": {},
   "outputs": [],
   "source": []
  }
 ],
 "metadata": {
  "kernelspec": {
   "display_name": "Python 3",
   "language": "python",
   "name": "python3"
  },
  "language_info": {
   "codemirror_mode": {
    "name": "ipython",
    "version": 3
   },
   "file_extension": ".py",
   "mimetype": "text/x-python",
   "name": "python",
   "nbconvert_exporter": "python",
   "pygments_lexer": "ipython3",
   "version": "3.6.4"
  }
 },
 "nbformat": 4,
 "nbformat_minor": 2
}
